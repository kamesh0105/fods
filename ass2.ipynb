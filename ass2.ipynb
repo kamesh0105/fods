{
 "cells": [
  {
   "cell_type": "code",
   "execution_count": 5,
   "metadata": {},
   "outputs": [
    {
     "data": {
      "text/html": [
       "<div>\n",
       "<style scoped>\n",
       "    .dataframe tbody tr th:only-of-type {\n",
       "        vertical-align: middle;\n",
       "    }\n",
       "\n",
       "    .dataframe tbody tr th {\n",
       "        vertical-align: top;\n",
       "    }\n",
       "\n",
       "    .dataframe thead th {\n",
       "        text-align: right;\n",
       "    }\n",
       "</style>\n",
       "<table border=\"1\" class=\"dataframe\">\n",
       "  <thead>\n",
       "    <tr style=\"text-align: right;\">\n",
       "      <th></th>\n",
       "      <th>Index</th>\n",
       "      <th>User Id</th>\n",
       "      <th>First Name</th>\n",
       "      <th>Sex</th>\n",
       "      <th>Email</th>\n",
       "      <th>Phone</th>\n",
       "      <th>Date of birth</th>\n",
       "      <th>Job Title</th>\n",
       "    </tr>\n",
       "  </thead>\n",
       "  <tbody>\n",
       "    <tr>\n",
       "      <th>0</th>\n",
       "      <td>1</td>\n",
       "      <td>88F7B33d2bcf9f5</td>\n",
       "      <td>ShelbyTerrell</td>\n",
       "      <td>Male\\t</td>\n",
       "      <td>elijah57@example.net\\t</td>\n",
       "      <td>001-084-906-7849x73518\\t</td>\n",
       "      <td>26-10-1945\\t</td>\n",
       "      <td>Games developer</td>\n",
       "    </tr>\n",
       "    <tr>\n",
       "      <th>1</th>\n",
       "      <td>2</td>\n",
       "      <td>f90cD3E76f1A9b9\\t</td>\n",
       "      <td>PhillisSummers\\t</td>\n",
       "      <td>Female\\t</td>\n",
       "      <td>bethany14@example.com\\t</td>\n",
       "      <td>214.112.6044x4913\\t</td>\n",
       "      <td>24-03-1910\\t</td>\n",
       "      <td>Phytotherapist</td>\n",
       "    </tr>\n",
       "    <tr>\n",
       "      <th>2</th>\n",
       "      <td>3</td>\n",
       "      <td>DbeAb8CcdfeFC2c\\t</td>\n",
       "      <td>KristineTravis\\t</td>\n",
       "      <td>Male\\t</td>\n",
       "      <td>bthompson@example.com\\t</td>\n",
       "      <td>277.609.7938\\t</td>\n",
       "      <td>02-07-1992\\t</td>\n",
       "      <td>Homeopath</td>\n",
       "    </tr>\n",
       "    <tr>\n",
       "      <th>3</th>\n",
       "      <td>4</td>\n",
       "      <td>A31Bee3c201ef58\\t</td>\n",
       "      <td>YeseniaMartinez</td>\n",
       "      <td>Male\\t</td>\n",
       "      <td>kaitlinkaiser@example.com\\t</td>\n",
       "      <td>584.094.6111\\t</td>\n",
       "      <td>03-08-2017\\t</td>\n",
       "      <td>Market researcher</td>\n",
       "    </tr>\n",
       "    <tr>\n",
       "      <th>4</th>\n",
       "      <td>5</td>\n",
       "      <td>1bA7A3dc874da3c\\t</td>\n",
       "      <td>Lori\\tTodd\\t</td>\n",
       "      <td>Male\\t</td>\n",
       "      <td>buchananmanuel@example.net\\t</td>\n",
       "      <td>689-207-3558x7233\\t</td>\n",
       "      <td>01-12-1938\\t</td>\n",
       "      <td>Veterinary surgeon</td>\n",
       "    </tr>\n",
       "  </tbody>\n",
       "</table>\n",
       "</div>"
      ],
      "text/plain": [
       "   Index            User Id        First Name       Sex  \\\n",
       "0      1    88F7B33d2bcf9f5     ShelbyTerrell    Male\\t   \n",
       "1      2  f90cD3E76f1A9b9\\t  PhillisSummers\\t  Female\\t   \n",
       "2      3  DbeAb8CcdfeFC2c\\t  KristineTravis\\t    Male\\t   \n",
       "3      4  A31Bee3c201ef58\\t   YeseniaMartinez    Male\\t   \n",
       "4      5  1bA7A3dc874da3c\\t      Lori\\tTodd\\t    Male\\t   \n",
       "\n",
       "                          Email                     Phone Date of birth  \\\n",
       "0        elijah57@example.net\\t  001-084-906-7849x73518\\t  26-10-1945\\t   \n",
       "1       bethany14@example.com\\t       214.112.6044x4913\\t  24-03-1910\\t   \n",
       "2       bthompson@example.com\\t            277.609.7938\\t  02-07-1992\\t   \n",
       "3   kaitlinkaiser@example.com\\t            584.094.6111\\t  03-08-2017\\t   \n",
       "4  buchananmanuel@example.net\\t       689-207-3558x7233\\t  01-12-1938\\t   \n",
       "\n",
       "            Job Title  \n",
       "0     Games developer  \n",
       "1      Phytotherapist  \n",
       "2           Homeopath  \n",
       "3   Market researcher  \n",
       "4  Veterinary surgeon  "
      ]
     },
     "execution_count": 5,
     "metadata": {},
     "output_type": "execute_result"
    }
   ],
   "source": [
    "import pandas as pd\n"
   ]
  },
  {
   "cell_type": "code",
   "execution_count": 7,
   "metadata": {},
   "outputs": [],
   "source": [
    "data = pd.read_csv(\"K:\\\\project clg (K)\\\\fods\\\\fodspro.csv\")"
   ]
  },
  {
   "cell_type": "code",
   "execution_count": 8,
   "metadata": {},
   "outputs": [
    {
     "data": {
      "text/html": [
       "<div>\n",
       "<style scoped>\n",
       "    .dataframe tbody tr th:only-of-type {\n",
       "        vertical-align: middle;\n",
       "    }\n",
       "\n",
       "    .dataframe tbody tr th {\n",
       "        vertical-align: top;\n",
       "    }\n",
       "\n",
       "    .dataframe thead th {\n",
       "        text-align: right;\n",
       "    }\n",
       "</style>\n",
       "<table border=\"1\" class=\"dataframe\">\n",
       "  <thead>\n",
       "    <tr style=\"text-align: right;\">\n",
       "      <th></th>\n",
       "      <th>Index</th>\n",
       "      <th>User Id</th>\n",
       "      <th>First Name</th>\n",
       "      <th>Sex</th>\n",
       "      <th>Email</th>\n",
       "      <th>Phone</th>\n",
       "      <th>Date of birth</th>\n",
       "      <th>Job Title</th>\n",
       "    </tr>\n",
       "  </thead>\n",
       "  <tbody>\n",
       "    <tr>\n",
       "      <th>0</th>\n",
       "      <td>1</td>\n",
       "      <td>88F7B33d2bcf9f5</td>\n",
       "      <td>ShelbyTerrell</td>\n",
       "      <td>Male\\t</td>\n",
       "      <td>elijah57@example.net\\t</td>\n",
       "      <td>001-084-906-7849x73518\\t</td>\n",
       "      <td>26-10-1945\\t</td>\n",
       "      <td>Games developer</td>\n",
       "    </tr>\n",
       "    <tr>\n",
       "      <th>1</th>\n",
       "      <td>2</td>\n",
       "      <td>f90cD3E76f1A9b9\\t</td>\n",
       "      <td>PhillisSummers\\t</td>\n",
       "      <td>Female\\t</td>\n",
       "      <td>bethany14@example.com\\t</td>\n",
       "      <td>214.112.6044x4913\\t</td>\n",
       "      <td>24-03-1910\\t</td>\n",
       "      <td>Phytotherapist</td>\n",
       "    </tr>\n",
       "    <tr>\n",
       "      <th>2</th>\n",
       "      <td>3</td>\n",
       "      <td>DbeAb8CcdfeFC2c\\t</td>\n",
       "      <td>KristineTravis\\t</td>\n",
       "      <td>Male\\t</td>\n",
       "      <td>bthompson@example.com\\t</td>\n",
       "      <td>277.609.7938\\t</td>\n",
       "      <td>02-07-1992\\t</td>\n",
       "      <td>Homeopath</td>\n",
       "    </tr>\n",
       "    <tr>\n",
       "      <th>3</th>\n",
       "      <td>4</td>\n",
       "      <td>A31Bee3c201ef58\\t</td>\n",
       "      <td>YeseniaMartinez</td>\n",
       "      <td>Male\\t</td>\n",
       "      <td>kaitlinkaiser@example.com\\t</td>\n",
       "      <td>584.094.6111\\t</td>\n",
       "      <td>03-08-2017\\t</td>\n",
       "      <td>Market researcher</td>\n",
       "    </tr>\n",
       "    <tr>\n",
       "      <th>4</th>\n",
       "      <td>5</td>\n",
       "      <td>1bA7A3dc874da3c\\t</td>\n",
       "      <td>Lori\\tTodd\\t</td>\n",
       "      <td>Male\\t</td>\n",
       "      <td>buchananmanuel@example.net\\t</td>\n",
       "      <td>689-207-3558x7233\\t</td>\n",
       "      <td>01-12-1938\\t</td>\n",
       "      <td>Veterinary surgeon</td>\n",
       "    </tr>\n",
       "  </tbody>\n",
       "</table>\n",
       "</div>"
      ],
      "text/plain": [
       "   Index            User Id        First Name       Sex  \\\n",
       "0      1    88F7B33d2bcf9f5     ShelbyTerrell    Male\\t   \n",
       "1      2  f90cD3E76f1A9b9\\t  PhillisSummers\\t  Female\\t   \n",
       "2      3  DbeAb8CcdfeFC2c\\t  KristineTravis\\t    Male\\t   \n",
       "3      4  A31Bee3c201ef58\\t   YeseniaMartinez    Male\\t   \n",
       "4      5  1bA7A3dc874da3c\\t      Lori\\tTodd\\t    Male\\t   \n",
       "\n",
       "                          Email                     Phone Date of birth  \\\n",
       "0        elijah57@example.net\\t  001-084-906-7849x73518\\t  26-10-1945\\t   \n",
       "1       bethany14@example.com\\t       214.112.6044x4913\\t  24-03-1910\\t   \n",
       "2       bthompson@example.com\\t            277.609.7938\\t  02-07-1992\\t   \n",
       "3   kaitlinkaiser@example.com\\t            584.094.6111\\t  03-08-2017\\t   \n",
       "4  buchananmanuel@example.net\\t       689-207-3558x7233\\t  01-12-1938\\t   \n",
       "\n",
       "            Job Title  \n",
       "0     Games developer  \n",
       "1      Phytotherapist  \n",
       "2           Homeopath  \n",
       "3   Market researcher  \n",
       "4  Veterinary surgeon  "
      ]
     },
     "execution_count": 8,
     "metadata": {},
     "output_type": "execute_result"
    }
   ],
   "source": [
    "data.head()"
   ]
  },
  {
   "cell_type": "code",
   "execution_count": 9,
   "metadata": {},
   "outputs": [
    {
     "name": "stdout",
     "output_type": "stream",
     "text": [
      "<class 'pandas.core.frame.DataFrame'>\n",
      "RangeIndex: 9 entries, 0 to 8\n",
      "Data columns (total 8 columns):\n",
      " #   Column         Non-Null Count  Dtype \n",
      "---  ------         --------------  ----- \n",
      " 0   Index          9 non-null      int64 \n",
      " 1   User Id        9 non-null      object\n",
      " 2   First Name     9 non-null      object\n",
      " 3   Sex            9 non-null      object\n",
      " 4   Email          9 non-null      object\n",
      " 5   Phone          9 non-null      object\n",
      " 6   Date of birth  9 non-null      object\n",
      " 7   Job Title      9 non-null      object\n",
      "dtypes: int64(1), object(7)\n",
      "memory usage: 708.0+ bytes\n"
     ]
    }
   ],
   "source": [
    "data.info()\n"
   ]
  },
  {
   "cell_type": "code",
   "execution_count": 10,
   "metadata": {},
   "outputs": [
    {
     "name": "stdout",
     "output_type": "stream",
     "text": [
      "          Index\n",
      "count  9.000000\n",
      "mean   5.000000\n",
      "std    2.738613\n",
      "min    1.000000\n",
      "25%    3.000000\n",
      "50%    5.000000\n",
      "75%    7.000000\n",
      "max    9.000000\n"
     ]
    }
   ],
   "source": [
    "print(data.describe())\n"
   ]
  },
  {
   "cell_type": "code",
   "execution_count": 11,
   "metadata": {},
   "outputs": [
    {
     "name": "stdout",
     "output_type": "stream",
     "text": [
      "Index            0\n",
      "User Id          0\n",
      "First Name       0\n",
      "Sex              0\n",
      "Email            0\n",
      "Phone            0\n",
      "Date of birth    0\n",
      "Job Title        0\n",
      "dtype: int64\n"
     ]
    }
   ],
   "source": [
    "print(data.isnull().sum())\n"
   ]
  },
  {
   "cell_type": "code",
   "execution_count": 15,
   "metadata": {},
   "outputs": [
    {
     "name": "stdout",
     "output_type": "stream",
     "text": [
      "   Index            User Id        First Name       Sex  \\\n",
      "7      8  2EFC6A4e77FaEaC\\t   RicardoHinton\\t    Male\\t   \n",
      "1      2  f90cD3E76f1A9b9\\t  PhillisSummers\\t  Female\\t   \n",
      "3      4  A31Bee3c201ef58\\t   YeseniaMartinez    Male\\t   \n",
      "2      3  DbeAb8CcdfeFC2c\\t  KristineTravis\\t    Male\\t   \n",
      "4      5  1bA7A3dc874da3c\\t      Lori\\tTodd\\t    Male\\t   \n",
      "\n",
      "                          Email                     Phone Date of birth  \\\n",
      "7     wyattbishop@example.com\\t  001-447-699-7998x88612\\t  26-03-1924\\t   \n",
      "1       bethany14@example.com\\t       214.112.6044x4913\\t  24-03-1910\\t   \n",
      "3   kaitlinkaiser@example.com\\t            584.094.6111\\t  03-08-2017\\t   \n",
      "2       bthompson@example.com\\t            277.609.7938\\t  02-07-1992\\t   \n",
      "4  buchananmanuel@example.net\\t       689-207-3558x7233\\t  01-12-1938\\t   \n",
      "\n",
      "            Job Title  \n",
      "7      Hydrogeologist  \n",
      "1      Phytotherapist  \n",
      "3   Market researcher  \n",
      "2           Homeopath  \n",
      "4  Veterinary surgeon  \n"
     ]
    }
   ],
   "source": [
    "print(data.sample(5))\n",
    "\n",
    "\n",
    "\n"
   ]
  },
  {
   "cell_type": "code",
   "execution_count": 16,
   "metadata": {},
   "outputs": [
    {
     "name": "stdout",
     "output_type": "stream",
     "text": [
      "Sex\n",
      "Male\\t      7\n",
      "Female\\t    2\n",
      "Name: count, dtype: int64\n"
     ]
    }
   ],
   "source": [
    "print(data['Sex'].value_counts())\n"
   ]
  },
  {
   "cell_type": "code",
   "execution_count": 17,
   "metadata": {},
   "outputs": [
    {
     "name": "stdout",
     "output_type": "stream",
     "text": [
      "0\n"
     ]
    }
   ],
   "source": [
    "print(data.duplicated().sum())\n"
   ]
  },
  {
   "cell_type": "code",
   "execution_count": 23,
   "metadata": {},
   "outputs": [
    {
     "name": "stderr",
     "output_type": "stream",
     "text": [
      "C:\\Users\\MSDK\\AppData\\Local\\Temp\\ipykernel_27068\\2527434395.py:1: UserWarning: Parsing dates in %d-%m-%Y\t format when dayfirst=False (the default) was specified. Pass `dayfirst=True` or specify a format to silence this warning.\n",
      "  data['Date of birth'] = pd.to_datetime(data['Date of birth'])\n"
     ]
    }
   ],
   "source": [
    "data['Date of birth'] = pd.to_datetime(data['Date of birth'])\n",
    "\n",
    "\n"
   ]
  },
  {
   "cell_type": "code",
   "execution_count": 24,
   "metadata": {},
   "outputs": [
    {
     "name": "stdout",
     "output_type": "stream",
     "text": [
      "Job Title  Games developer  Homeopath  Hydrogeologist  Intelligence analyst  \\\n",
      "Sex                                                                           \n",
      "Female\\t                 0          0               0                     1   \n",
      "Male\\t                   1          1               1                     0   \n",
      "\n",
      "Job Title  Lawyer  Market researcher  Phytotherapist  Veterinary surgeon  \\\n",
      "Sex                                                                        \n",
      "Female\\t        0                  0               1                   0   \n",
      "Male\\t          1                  1               0                   1   \n",
      "\n",
      "Job Title  Waste management officer  \n",
      "Sex                                  \n",
      "Female\\t                          0  \n",
      "Male\\t                            1  \n"
     ]
    }
   ],
   "source": [
    "cross_tab = pd.crosstab(data['Sex'], data['Job Title'])\n",
    "print(cross_tab)\n"
   ]
  },
  {
   "cell_type": "code",
   "execution_count": 25,
   "metadata": {},
   "outputs": [],
   "source": [
    "import matplotlib.pyplot as plt"
   ]
  },
  {
   "cell_type": "code",
   "execution_count": 29,
   "metadata": {},
   "outputs": [
    {
     "data": {
      "image/png": "[encoded data removed]",
      "text/plain": [
       "<Figure size 640x480 with 1 Axes>"
      ]
     },
     "metadata": {},
     "output_type": "display_data"
    }
   ],
   "source": [
    "data['Sex'].hist(bins=20)\n",
    "plt.show()"
   ]
  },
  {
   "cell_type": "code",
   "execution_count": 30,
   "metadata": {},
   "outputs": [
    {
     "name": "stderr",
     "output_type": "stream",
     "text": [
      "C:\\Users\\MSDK\\AppData\\Roaming\\Python\\Python312\\site-packages\\IPython\\core\\pylabtools.py:170: UserWarning: Glyph 9 (\t) missing from current font.\n",
      "  fig.canvas.print_figure(bytes_io, **kw)\n"
     ]
    },
    {
     "data": {
      "image/png": "[encoded data removed]",
      "text/plain": [
       "<Figure size 640x480 with 1 Axes>"
      ]
     },
     "metadata": {},
     "output_type": "display_data"
    }
   ],
   "source": [
    "data['User Id'].value_counts().plot(kind='bar')\n",
    "plt.show()\n"
   ]
  },
  {
   "cell_type": "code",
   "execution_count": 35,
   "metadata": {},
   "outputs": [
    {
     "name": "stderr",
     "output_type": "stream",
     "text": [
      "C:\\Users\\MSDK\\AppData\\Roaming\\Python\\Python312\\site-packages\\IPython\\core\\pylabtools.py:170: UserWarning: Glyph 9 (\t) missing from current font.\n",
      "  fig.canvas.print_figure(bytes_io, **kw)\n"
     ]
    },
    {
     "data": {
      "image/png": "[encoded data removed]",
      "text/plain": [
       "<Figure size 640x480 with 1 Axes>"
      ]
     },
     "metadata": {},
     "output_type": "display_data"
    }
   ],
   "source": [
    "data.plot.scatter(x='First Name', y='Job Title')\n",
    "plt.show()\n",
    "\n",
    "\n"
   ]
  }
 ],
 "metadata": {
  "kernelspec": {
   "display_name": "Python 3",
   "language": "python",
   "name": "python3"
  },
  "language_info": {
   "codemirror_mode": {
    "name": "ipython",
    "version": 3
   },
   "file_extension": ".py",
   "mimetype": "text/x-python",
   "name": "python",
   "nbconvert_exporter": "python",
   "pygments_lexer": "ipython3",
   "version": "3.12.2"
  }
 },
 "nbformat": 4,
 "nbformat_minor": 2
}
